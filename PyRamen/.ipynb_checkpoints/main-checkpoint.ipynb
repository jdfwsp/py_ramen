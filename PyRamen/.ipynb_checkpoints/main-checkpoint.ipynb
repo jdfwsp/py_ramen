{
 "cells": [
  {
   "cell_type": "code",
   "execution_count": 12,
   "id": "523dca05-8be0-4908-9914-4ab894157e8e",
   "metadata": {},
   "outputs": [
    {
     "name": "stdout",
     "output_type": "stream",
     "text": [
      "burnt garlic tonkotsu ramen {'01-count': 9070, '02-revenue': 126980.0, '03-cogs': 54420.0, '04-profit': 72560.0}\n",
      "miso crab ramen {'01-count': 8890, '02-revenue': 106680.0, '03-cogs': 53340.0, '04-profit': 53340.0}\n",
      "nagomi shoyu {'01-count': 9132, '02-revenue': 100452.0, '03-cogs': 45660.0, '04-profit': 54792.0}\n",
      "shio ramen {'01-count': 9180, '02-revenue': 100980.0, '03-cogs': 45900.0, '04-profit': 55080.0}\n",
      "soft-shell miso crab ramen {'01-count': 9130, '02-revenue': 127820.0, '03-cogs': 63910.0, '04-profit': 63910.0}\n",
      "spicy miso ramen {'01-count': 9238, '02-revenue': 110856.0, '03-cogs': 46190.0, '04-profit': 64666.0}\n",
      "tonkotsu ramen {'01-count': 9288, '02-revenue': 120744.0, '03-cogs': 55728.0, '04-profit': 65016.0}\n",
      "tori paitan ramen {'01-count': 9156, '02-revenue': 119028.0, '03-cogs': 54936.0, '04-profit': 64092.0}\n",
      "truffle butter ramen {'01-count': 8982, '02-revenue': 125748.0, '03-cogs': 62874.0, '04-profit': 62874.0}\n",
      "vegetarian curry + king trumpet mushroom ramen {'01-count': 8824, '02-revenue': 114712.0, '03-cogs': 61768.0, '04-profit': 52944.0}\n",
      "vegetarian spicy miso {'01-count': 9216, '02-revenue': 110592.0, '03-cogs': 46080.0, '04-profit': 64512.0}\n"
     ]
    }
   ],
   "source": [
    "# Import Dependencies\n",
    "from pathlib import Path\n",
    "import csv\n",
    "\n",
    "# Declare Path Variables\n",
    "menu_file = Path('Resources/menu_data.csv')\n",
    "sales_file = Path('Resources/sales_data.csv')\n",
    "report_file = Path('output.txt')\n",
    "\n",
    "# Declare Lists & Dictionary\n",
    "menu = []\n",
    "sales = []\n",
    "report = {}\n",
    "\n",
    "# Read Data From csv File\n",
    "with open(menu_file, \"r\") as file:\n",
    "    csvreader = csv.reader(file, delimiter = ',')\n",
    "    header = next(csvreader)\n",
    "    for row in csvreader:\n",
    "        menu.append(row)\n",
    "        \n",
    "with open(sales_file, \"r\") as file:\n",
    "    csvreader = csv.reader(file, delimiter = ',')\n",
    "    header = next(csvreader)\n",
    "    for row in csvreader:\n",
    "        sales.append(row)\n",
    "\n",
    "#Build Dictionary\n",
    "for row in menu:\n",
    "    if row[1] == \"entree\":\n",
    "        report.update({row[0]:{\n",
    "                       \"01-count\": 0, \n",
    "                       \"02-revenue\": 0, \n",
    "                       \"03-cogs\": 0, \n",
    "                       \"04-profit\": 0, \n",
    "                      }})\n",
    "\n",
    "for row in sales:\n",
    "    quantity = int(row[3])\n",
    "    menu_item = row[4]\n",
    "    for line in menu:\n",
    "        item = line[0]\n",
    "        price = float(line[3])\n",
    "        cost = float(line[4])\n",
    "        if item == menu_item:\n",
    "            report[menu_item][\"01-count\"] += quantity\n",
    "            report[menu_item][\"02-revenue\"] += price * quantity\n",
    "            report[menu_item][\"03-cogs\"] += cost * quantity\n",
    "            report[menu_item][\"04-profit\"] += (price - cost) * quantity\n",
    "\n",
    "# Display & Export Report\n",
    "open_report = open(report_file, \"w\")\n",
    "for k, v in sorted(report.items()):\n",
    "    open_report.write(f\"{k} {v}\\n\")\n",
    "    print(k, v)\n",
    "open_report.close()"
   ]
  },
  {
   "cell_type": "code",
   "execution_count": null,
   "id": "4cc26663-bd5c-4a96-bd9c-9287c27d6d77",
   "metadata": {},
   "outputs": [],
   "source": []
  }
 ],
 "metadata": {
  "kernelspec": {
   "display_name": "Python 3",
   "language": "python",
   "name": "python3"
  },
  "language_info": {
   "codemirror_mode": {
    "name": "ipython",
    "version": 3
   },
   "file_extension": ".py",
   "mimetype": "text/x-python",
   "name": "python",
   "nbconvert_exporter": "python",
   "pygments_lexer": "ipython3",
   "version": "3.8.5"
  }
 },
 "nbformat": 4,
 "nbformat_minor": 5
}
