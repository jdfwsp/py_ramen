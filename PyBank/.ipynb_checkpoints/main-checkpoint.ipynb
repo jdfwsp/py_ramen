{
 "cells": [
  {
   "cell_type": "code",
   "execution_count": 1,
   "id": "6a6b665f-71bb-47f5-b7a8-fc78505d418c",
   "metadata": {},
   "outputs": [
    {
     "name": "stdout",
     "output_type": "stream",
     "text": [
      "Financial Analysis\n",
      "----------------------------\n",
      "Total Months: 86\n",
      "Total: $38382578\n",
      "Average Change: $-2315.12\n",
      "Greatest Increase in Profits: Feb-2012 ($1926159)\n",
      "Greatest Decrease in Profits: Sep-2013 ($-2196167)\n"
     ]
    }
   ],
   "source": [
    "# Import Dependencies\n",
    "from pathlib import Path\n",
    "import csv\n",
    "\n",
    "# Declare Path Variables\n",
    "budget_file = Path('Resources/budget_data.csv')\n",
    "report_file = Path('output.txt')\n",
    "\n",
    "# Declare Math Variables\n",
    "months = 0\n",
    "profits = []\n",
    "best_month = 0\n",
    "worst_month = 0\n",
    "name_best = ''\n",
    "name_worst = ''\n",
    "\n",
    "# Read Data From csv File\n",
    "with open(budget_file, \"r\") as file:\n",
    "    csvreader = csv.reader(file, delimiter = ',')\n",
    "    header = next(csvreader)\n",
    "    for row in csvreader:\n",
    "        months += 1\n",
    "        profits.append(int(row[1]))\n",
    "        if worst_month == 0:\n",
    "            worst_month = int(row[1])\n",
    "            name_worst = str(row[0])\n",
    "        elif worst_month > int(row[1]):\n",
    "            worst_month = int(row[1])\n",
    "            name_worst = str(row[0])\n",
    "        elif best_month < int(row[1]):\n",
    "            best_month = int(row[1])\n",
    "            name_best = str(row[0])\n",
    "\n",
    "# Calculate Deltas    \n",
    "deltas = [j - i for i, j in zip(profits[: -1], profits[1 :])]\n",
    "\n",
    "# Build Report\n",
    "report = []\n",
    "report.append(\"Financial Analysis\")\n",
    "report.append(\"----------------------------\")\n",
    "report.append(f'Total Months: {months}')\n",
    "report.append(f'Total: ${sum(profits)}')\n",
    "report.append(f'Average Change: ${round(sum(deltas) / len(deltas), 2)}')\n",
    "report.append(f'Greatest Increase in Profits: {name_best} (${max(deltas)})')\n",
    "report.append(f'Greatest Decrease in Profits: {name_worst} (${min(deltas)})')\n",
    "\n",
    "# Display & Export Report\n",
    "open_report = open(report_file, \"w\")\n",
    "for line in report:\n",
    "    open_report.write(f\"{line}\\n\")\n",
    "    print(line)\n",
    "open_report.close()"
   ]
  },
  {
   "cell_type": "code",
   "execution_count": null,
   "id": "f21fff1e-8449-4107-b1a3-088963d3b826",
   "metadata": {},
   "outputs": [],
   "source": []
  }
 ],
 "metadata": {
  "kernelspec": {
   "display_name": "Python 3",
   "language": "python",
   "name": "python3"
  },
  "language_info": {
   "codemirror_mode": {
    "name": "ipython",
    "version": 3
   },
   "file_extension": ".py",
   "mimetype": "text/x-python",
   "name": "python",
   "nbconvert_exporter": "python",
   "pygments_lexer": "ipython3",
   "version": "3.8.5"
  }
 },
 "nbformat": 4,
 "nbformat_minor": 5
}
