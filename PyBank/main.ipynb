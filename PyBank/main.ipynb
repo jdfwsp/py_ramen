{
 "cells": [
  {
   "cell_type": "raw",
   "id": "7a834f6b-0cd9-429c-8c75-cf1c613e5382",
   "metadata": {},
   "source": [
    "In this activity, you are tasked with creating a Python script for analyzing the financial records of your company. You will be provided with a financial dataset in this file: budget_data.csv. This dataset is composed of two columns, Date and Profit/Losses. (Thankfully, your company has rather lax standards for accounting, so the records are simple.)\n",
    "Your task is to create a Python script that analyzes the records to calculate each of the following:\n",
    "\n",
    "\n",
    "The total number of months included in the dataset.    count\n",
    "\n",
    "\n",
    "The net total amount of Profit/Losses over the entire period.        sum\n",
    "\n",
    "\n",
    "The average of the changes in Profit/Losses over the entire period.    mean\n",
    "\n",
    "\n",
    "The greatest increase in profits (date and amount) over the entire period.     max\n",
    "\n",
    "\n",
    "The greatest decrease in losses (date and amount) over the entire period.     min\n",
    "\n",
    "\n",
    "Your final script should print the analysis to the terminal and export a text file with the results.\n",
    "\n",
    "Financial Analysis\n",
    "----------------------------\n",
    "Total Months: 86\n",
    "Total: $38382578\n",
    "Average  Change: $-2315.12\n",
    "Greatest Increase in Profits: Feb-2012 ($1926159)\n",
    "Greatest Decrease in Profits: Sep-2013 ($-2196167)\n"
   ]
  },
  {
   "cell_type": "markdown",
   "id": "8906a098-5434-446b-a2fb-367d7925fd8b",
   "metadata": {},
   "source": [
    "## Pseudo Code"
   ]
  },
  {
   "cell_type": "code",
   "execution_count": null,
   "id": "86b106c8-51ab-420f-a2e8-363ff4092489",
   "metadata": {},
   "outputs": [],
   "source": [
    "import dependencies\n",
    "\n",
    "declare variables for count, sum, mean, max & min\n",
    "\n",
    "declare file = path to resource\n",
    "\n",
    "read file\n",
    "\n",
    "for loop:\n",
    "    if\n"
   ]
  },
  {
   "cell_type": "markdown",
   "id": "7a227f06-0595-48ba-ab7c-7b07e40b2126",
   "metadata": {},
   "source": [
    "## Imports"
   ]
  },
  {
   "cell_type": "code",
   "execution_count": 9,
   "id": "fe3b4792-a2dd-4630-9812-c29158752a1d",
   "metadata": {},
   "outputs": [],
   "source": [
    "from pathlib import Path\n",
    "import csv\n",
    "import pandas as pd"
   ]
  },
  {
   "cell_type": "code",
   "execution_count": 24,
   "id": "cbc98180-66a9-4c10-b43f-07a8dd5cdc76",
   "metadata": {},
   "outputs": [],
   "source": [
    "budget_file = Path('Resources/budget_data.csv')\n",
    "report_file = Path('output.txt')\n",
    "\n",
    "months = 0\n",
    "profits = []\n",
    "total_profit = 0\n",
    "average_profit = 0\n",
    "best_month = 0\n",
    "worst_month = 0"
   ]
  },
  {
   "cell_type": "code",
   "execution_count": 36,
   "id": "6a6b665f-71bb-47f5-b7a8-fc78505d418c",
   "metadata": {},
   "outputs": [
    {
     "name": "stdout",
     "output_type": "stream",
     "text": [
      "Sum = $38382578\n",
      "Months = 86\n",
      "Average = $446309.05\n",
      "Best Profit = $1170593 in Feb-2012\n",
      "Worst Loss = $-1196225 in Sep-2013\n"
     ]
    }
   ],
   "source": [
    "budget_file = Path('Resources/budget_data.csv')\n",
    "report_file = Path('output.txt')\n",
    "\n",
    "months = 0\n",
    "profits = []\n",
    "total_profit = 0\n",
    "best_month = 0\n",
    "worst_month = 0\n",
    "name_best = ''\n",
    "name_worst = ''\n",
    "\n",
    "with open(budget_file, \"r\") as file:\n",
    "    csvreader = csv.reader(file, delimiter = ',')\n",
    "    header = next(csvreader)\n",
    "    for row in csvreader:\n",
    "        months += 1\n",
    "        month = str(row[0])\n",
    "        profit = int(row[1])\n",
    "        profits.append(profit)\n",
    "        total_profit += profit\n",
    "        if worst_month == 0:\n",
    "            worst_month = profit\n",
    "            name_worst = month\n",
    "        elif worst_month > profit:\n",
    "            worst_month = profit\n",
    "            name_worst = month\n",
    "        elif best_month < profit:\n",
    "            best_month = profit\n",
    "            name_best = month\n",
    "\n",
    "average_profit = round(total_profit / months, 2)\n",
    "print(f'Sum = ${total_profit}')\n",
    "print(f'Months = {months}')\n",
    "print(f'Average = ${average_profit}')\n",
    "print(f'Best Profit = ${best_month} in {name_best}')\n",
    "print(f'Worst Loss = ${worst_month} in {name_worst}')\n"
   ]
  },
  {
   "cell_type": "code",
   "execution_count": 4,
   "id": "016b2933-51be-4a2e-93bb-76902a438769",
   "metadata": {},
   "outputs": [],
   "source": [
    "budget_df = pd.read_csv('')"
   ]
  },
  {
   "cell_type": "code",
   "execution_count": 7,
   "id": "663aabe4-b3e5-4577-81c0-3f867e7da13f",
   "metadata": {},
   "outputs": [
    {
     "data": {
      "text/html": [
       "<div>\n",
       "<style scoped>\n",
       "    .dataframe tbody tr th:only-of-type {\n",
       "        vertical-align: middle;\n",
       "    }\n",
       "\n",
       "    .dataframe tbody tr th {\n",
       "        vertical-align: top;\n",
       "    }\n",
       "\n",
       "    .dataframe thead th {\n",
       "        text-align: right;\n",
       "    }\n",
       "</style>\n",
       "<table border=\"1\" class=\"dataframe\">\n",
       "  <thead>\n",
       "    <tr style=\"text-align: right;\">\n",
       "      <th></th>\n",
       "      <th>Profit/Losses</th>\n",
       "    </tr>\n",
       "  </thead>\n",
       "  <tbody>\n",
       "    <tr>\n",
       "      <th>count</th>\n",
       "      <td>8.600000e+01</td>\n",
       "    </tr>\n",
       "    <tr>\n",
       "      <th>mean</th>\n",
       "      <td>4.463090e+05</td>\n",
       "    </tr>\n",
       "    <tr>\n",
       "      <th>std</th>\n",
       "      <td>5.363579e+05</td>\n",
       "    </tr>\n",
       "    <tr>\n",
       "      <th>min</th>\n",
       "      <td>-1.196225e+06</td>\n",
       "    </tr>\n",
       "    <tr>\n",
       "      <th>25%</th>\n",
       "      <td>1.821620e+05</td>\n",
       "    </tr>\n",
       "    <tr>\n",
       "      <th>50%</th>\n",
       "      <td>5.703280e+05</td>\n",
       "    </tr>\n",
       "    <tr>\n",
       "      <th>75%</th>\n",
       "      <td>7.952262e+05</td>\n",
       "    </tr>\n",
       "    <tr>\n",
       "      <th>max</th>\n",
       "      <td>1.170593e+06</td>\n",
       "    </tr>\n",
       "  </tbody>\n",
       "</table>\n",
       "</div>"
      ],
      "text/plain": [
       "       Profit/Losses\n",
       "count   8.600000e+01\n",
       "mean    4.463090e+05\n",
       "std     5.363579e+05\n",
       "min    -1.196225e+06\n",
       "25%     1.821620e+05\n",
       "50%     5.703280e+05\n",
       "75%     7.952262e+05\n",
       "max     1.170593e+06"
      ]
     },
     "execution_count": 7,
     "metadata": {},
     "output_type": "execute_result"
    }
   ],
   "source": [
    "budget_df.describe()"
   ]
  },
  {
   "cell_type": "markdown",
   "id": "75c37127-e5b2-4e57-b11f-9259a837f341",
   "metadata": {},
   "source": [
    "# HOW DO YOU GET THE DIFFERENCE BETWEEN TWO MONTHS?"
   ]
  },
  {
   "cell_type": "code",
   "execution_count": 37,
   "id": "53c4ccb5-bfaf-45d5-b688-4d93f46a45c3",
   "metadata": {},
   "outputs": [
    {
     "name": "stdout",
     "output_type": "stream",
     "text": [
      "[867884, 984655, 322013, -69417, 310503, 522857, 1033096, 604885, -216386, 477532, 893810, -80353, 779806, -335203, 697845, 793163, 485070, 584122, 62729, 668179, 899906, 834719, 132003, 309978, -755566, 1170593, 252788, 1151518, 817256, 570757, 506702, -1022534, 475062, 779976, 144175, 542494, 359333, 321469, 67780, 471435, 565603, 872480, 789480, 999942, -1196225, 268997, -687986, 1150461, 682458, 617856, 824098, 581943, 132864, 448062, 689161, 800701, 1166643, 947333, 578668, 988505, 1139715, 1029471, 687533, -524626, 158620, 87795, 423389, 840723, 568529, 332067, 989499, 778237, 650000, -1100387, -174946, 757143, 445709, 712961, -1163797, 569899, 768450, 102685, 795914, 60988, 138230, 671099]\n"
     ]
    }
   ],
   "source": [
    "print(profits)"
   ]
  },
  {
   "cell_type": "code",
   "execution_count": 38,
   "id": "902f7a0d-cc61-4805-b741-95cb932797d0",
   "metadata": {},
   "outputs": [
    {
     "data": {
      "text/plain": [
       "-69417"
      ]
     },
     "execution_count": 38,
     "metadata": {},
     "output_type": "execute_result"
    }
   ],
   "source": [
    "profits[3]"
   ]
  },
  {
   "cell_type": "code",
   "execution_count": null,
   "id": "dc3b1707-9277-4b97-9df9-5e9927f98663",
   "metadata": {},
   "outputs": [],
   "source": []
  }
 ],
 "metadata": {
  "kernelspec": {
   "display_name": "Python 3",
   "language": "python",
   "name": "python3"
  },
  "language_info": {
   "codemirror_mode": {
    "name": "ipython",
    "version": 3
   },
   "file_extension": ".py",
   "mimetype": "text/x-python",
   "name": "python",
   "nbconvert_exporter": "python",
   "pygments_lexer": "ipython3",
   "version": "3.8.5"
  }
 },
 "nbformat": 4,
 "nbformat_minor": 5
}
