{
 "cells": [
  {
   "cell_type": "raw",
   "id": "7a834f6b-0cd9-429c-8c75-cf1c613e5382",
   "metadata": {},
   "source": [
    "In this activity, you are tasked with creating a Python script for analyzing the financial records of your company. You will be provided with a financial dataset in this file: budget_data.csv. This dataset is composed of two columns, Date and Profit/Losses. (Thankfully, your company has rather lax standards for accounting, so the records are simple.)\n",
    "Your task is to create a Python script that analyzes the records to calculate each of the following:\n",
    "\n",
    "\n",
    "The total number of months included in the dataset.    count\n",
    "\n",
    "\n",
    "The net total amount of Profit/Losses over the entire period.        sum\n",
    "\n",
    "\n",
    "The average of the changes in Profit/Losses over the entire period.    mean\n",
    "\n",
    "\n",
    "The greatest increase in profits (date and amount) over the entire period.     max\n",
    "\n",
    "\n",
    "The greatest decrease in losses (date and amount) over the entire period.     min\n",
    "\n",
    "\n",
    "Your final script should print the analysis to the terminal and export a text file with the results.\n",
    "\n",
    "Financial Analysis\n",
    "----------------------------\n",
    "Total Months: 86\n",
    "Total: $38382578\n",
    "Average  Change: $-2315.12\n",
    "Greatest Increase in Profits: Feb-2012 ($1926159)\n",
    "Greatest Decrease in Profits: Sep-2013 ($-2196167)\n"
   ]
  },
  {
   "cell_type": "markdown",
   "id": "8906a098-5434-446b-a2fb-367d7925fd8b",
   "metadata": {},
   "source": [
    "## Pseudo Code"
   ]
  },
  {
   "cell_type": "markdown",
   "id": "7a227f06-0595-48ba-ab7c-7b07e40b2126",
   "metadata": {},
   "source": [
    "## Imports"
   ]
  },
  {
   "cell_type": "code",
   "execution_count": 24,
   "id": "fe3b4792-a2dd-4630-9812-c29158752a1d",
   "metadata": {},
   "outputs": [],
   "source": [
    "from pathlib import Path\n",
    "import csv\n",
    "import pandas as pd"
   ]
  },
  {
   "cell_type": "code",
   "execution_count": 25,
   "id": "cbc98180-66a9-4c10-b43f-07a8dd5cdc76",
   "metadata": {},
   "outputs": [],
   "source": [
    "from pathlib import Path\n",
    "import csv\n",
    "import pandas as pd\n",
    "\n",
    "budget_file = Path('Resources/budget_data.csv')\n",
    "report_file = Path('output.txt')\n",
    "months = 0\n",
    "profits = []\n",
    "total_profit = 0\n",
    "average_profit = 0\n",
    "best_month = 0\n",
    "worst_month = 0"
   ]
  },
  {
   "cell_type": "code",
   "execution_count": 26,
   "id": "6a6b665f-71bb-47f5-b7a8-fc78505d418c",
   "metadata": {},
   "outputs": [
    {
     "name": "stdout",
     "output_type": "stream",
     "text": [
      "Months = 86\n",
      "Sum = $38382578\n",
      "Average = $-2315.12\n",
      "Best Profit = $1926159 in Feb-2012\n",
      "Worst Loss = $-2196167 in Sep-2013\n"
     ]
    }
   ],
   "source": [
    "budget_file = Path('Resources/budget_data.csv')\n",
    "report_file = Path('output.txt')\n",
    "\n",
    "months = 0\n",
    "profits = []\n",
    "total_profit = 0\n",
    "best_month = 0\n",
    "worst_month = 0\n",
    "name_best = ''\n",
    "name_worst = ''\n",
    "deltas = []\n",
    "with open(budget_file, \"r\") as file:\n",
    "    csvreader = csv.reader(file, delimiter = ',')\n",
    "    header = next(csvreader)\n",
    "    for row in csvreader:\n",
    "        months += 1\n",
    "        month = str(row[0])\n",
    "        profit = int(row[1])\n",
    "        profits.append(profit)\n",
    "        total_profit += profit\n",
    "        if worst_month == 0:\n",
    "            worst_month = profit\n",
    "            name_worst = month\n",
    "        elif worst_month > profit:\n",
    "            worst_month = profit\n",
    "            name_worst = month\n",
    "        elif best_month < profit:\n",
    "            best_month = profit\n",
    "            name_best = month\n",
    "      \n",
    "    \n",
    "deltas = [j - i for i, j in zip(profits[: -1], profits[1 :])]\n",
    "\n",
    "average_profit = round(total_profit / months, 2)\n",
    "print(f'Months = {months}')\n",
    "print(f'Sum = ${total_profit}')\n",
    "print(f'Average = ${round(sum(deltas) / len(deltas), 2)}')\n",
    "print(f'Best Profit = ${max(deltas)} in {name_best}')\n",
    "print(f'Worst Loss = ${min(deltas)} in {name_worst}')\n"
   ]
  }
 ],
 "metadata": {
  "kernelspec": {
   "display_name": "Python 3",
   "language": "python",
   "name": "python3"
  },
  "language_info": {
   "codemirror_mode": {
    "name": "ipython",
    "version": 3
   },
   "file_extension": ".py",
   "mimetype": "text/x-python",
   "name": "python",
   "nbconvert_exporter": "python",
   "pygments_lexer": "ipython3",
   "version": "3.8.5"
  }
 },
 "nbformat": 4,
 "nbformat_minor": 5
}
